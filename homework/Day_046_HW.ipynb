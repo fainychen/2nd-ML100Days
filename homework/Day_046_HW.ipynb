{
 "cells": [
  {
   "cell_type": "markdown",
   "metadata": {},
   "source": [
    "### 作業\n",
    "目前已經學過許多的模型，相信大家對整體流程應該比較掌握了，這次作業請改用**手寫辨識資料集**，步驟流程都是一樣的，請試著自己撰寫程式碼來完成所有步驟"
   ]
  },
  {
   "cell_type": "code",
   "execution_count": 1,
   "metadata": {},
   "outputs": [],
   "source": [
    "from sklearn import datasets, metrics\n",
    "from sklearn.model_selection import train_test_split\n",
    "from sklearn.ensemble import GradientBoostingClassifier\n",
    "\n",
    "# 忽略警告訊息\n",
    "import warnings\n",
    "warnings.filterwarnings('ignore')"
   ]
  },
  {
   "cell_type": "code",
   "execution_count": 2,
   "metadata": {},
   "outputs": [],
   "source": [
    "# 讀取資料集\n",
    "digits = datasets.load_digits()\n",
    "\n",
    "# 切分訓練集/測試集\n",
    "x_train, x_test, y_train, y_test = train_test_split(digits.data, digits.target, test_size=0.25, random_state=6)"
   ]
  },
  {
   "cell_type": "code",
   "execution_count": 3,
   "metadata": {},
   "outputs": [
    {
     "name": "stdout",
     "output_type": "stream",
     "text": [
      "Accuracy:  0.9533333333333334\n",
      "Feature importance:  [0.00000000e+00 9.01515299e-04 1.12604625e-02 4.82603643e-03\n",
      " 3.85494055e-03 5.70036204e-02 5.42411847e-03 4.28319913e-03\n",
      " 1.68728203e-09 4.98643388e-03 2.55685388e-02 2.23560548e-03\n",
      " 6.96226694e-03 9.94542227e-03 1.44257928e-03 1.87287360e-04\n",
      " 1.60888299e-04 2.70030677e-03 7.25149635e-03 3.67170718e-02\n",
      " 2.42350065e-02 9.35879360e-02 2.15173566e-03 5.75933362e-06\n",
      " 3.16434410e-07 1.50619161e-03 5.75525792e-02 1.30360240e-02\n",
      " 3.91894066e-02 2.72213701e-02 1.07387790e-02 1.75954521e-09\n",
      " 0.00000000e+00 6.43326852e-02 6.37328707e-03 4.24265133e-03\n",
      " 6.64067219e-02 2.35587803e-02 1.66291168e-02 0.00000000e+00\n",
      " 0.00000000e+00 6.52044013e-03 7.64252392e-02 7.48326979e-02\n",
      " 1.16229457e-02 5.39907035e-03 1.81244012e-02 4.35957694e-04\n",
      " 8.22931106e-06 5.22348959e-04 3.41211807e-03 1.76441892e-02\n",
      " 2.81909217e-03 1.59484028e-02 2.70672135e-02 3.24964261e-04\n",
      " 0.00000000e+00 1.34735824e-04 1.43290164e-02 2.02262162e-03\n",
      " 5.51181892e-02 8.78640799e-03 1.36983682e-02 8.32320998e-03]\n"
     ]
    }
   ],
   "source": [
    "# 建立模型\n",
    "clf = GradientBoostingClassifier(learning_rate=0.1, n_estimators=200)\n",
    "\n",
    "# 訓練模型\n",
    "clf.fit(x_train, y_train)\n",
    "\n",
    "# 預測測試集\n",
    "y_pred = clf.predict(x_test)\n",
    "\n",
    "acc = metrics.accuracy_score(y_test, y_pred)\n",
    "print(\"Accuracy: \", acc)\n",
    "print(\"Feature importance: \", clf.feature_importances_)"
   ]
  }
 ],
 "metadata": {
  "kernelspec": {
   "display_name": "Python 3",
   "language": "python",
   "name": "python3"
  },
  "language_info": {
   "codemirror_mode": {
    "name": "ipython",
    "version": 3
   },
   "file_extension": ".py",
   "mimetype": "text/x-python",
   "name": "python",
   "nbconvert_exporter": "python",
   "pygments_lexer": "ipython3",
   "version": "3.7.3"
  }
 },
 "nbformat": 4,
 "nbformat_minor": 2
}
